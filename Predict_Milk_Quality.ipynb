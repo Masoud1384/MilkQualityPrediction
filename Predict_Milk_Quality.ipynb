{
 "cells": [
  {
   "cell_type": "markdown",
   "id": "1f108caa",
   "metadata": {
    "colab_type": "text",
    "id": "view-in-github"
   },
   "source": [
    "<a href=\"https://colab.research.google.com/github/andrewmuhoro/MilkGrade/blob/main/Predict_Milk_Quality.ipynb\" target=\"_parent\"><img src=\"https://colab.research.google.com/assets/colab-badge.svg\" alt=\"Open In Colab\"/></a>"
   ]
  },
  {
   "cell_type": "markdown",
   "id": "2t9viYOjUr5L",
   "metadata": {
    "id": "2t9viYOjUr5L"
   },
   "source": [
    "# **Introduction**"
   ]
  },
  {
   "cell_type": "markdown",
   "id": "oc4rzXhJ5EMi",
   "metadata": {
    "id": "oc4rzXhJ5EMi"
   },
   "source": [
    "In this notebook, the goal is to predict the milk quality. The central goal is to design a model that makes proper classifications for new milk samples. In other words, one which exhibits good generalization. by seven observable milk variables\n",
    "\n",
    "We can classify milk into three groups: low, medium, and high quality. The milk dataset contains 429 instances of low quality, 374 instances of medium quality, and 256 instances of high quality.\n",
    "\n",
    "This dataset is manually collected from observations. It helps us to build machine learning models to predict the quality of milk. \n",
    "This dataset consists of 7 independent variables ie pH, Temperature, Taste, Odor, Fat, Turbidity, and Color:\n",
    "\n",
    "1. pH: This feature defines pH of the milk, which is in the range of 3 to 9.5. \n",
    "\n",
    "2. Temperature: This feature defines the temperature of the milk, and its range is from 34'C to 90'C.\n",
    "\n",
    "3. Taste: This feature defines the taste of the milk and takes the possibles values: 1 (good) or 0 (bad).\n",
    "\n",
    "4. Odor: This feature defines the odor of the milk and takes the possibles values: 1 (good) or 0 (bad).\n",
    "\n",
    "5. Fat: This feature defines fat of the milk and takes the possibles values: 1 (good) or 0 (bad).\n",
    "\n",
    "6. Turbidity: This feature defines the turbidity of the milk and takes the possibles values: 1 (good) or 0 (bad).\n",
    "\n",
    "7. Color: This feature defines the color of the milk, which is in the range of 240 to 255.\n",
    "\n",
    "8. Grade: This is the target and takes the values: low_quality,medium_quality or high_quality."
   ]
  },
  {
   "cell_type": "markdown",
   "id": "0cYbUdj3AA4l",
   "metadata": {
    "id": "0cYbUdj3AA4l"
   },
   "source": [
    "# **Data Exploration**"
   ]
  },
  {
   "cell_type": "code",
   "execution_count": 169,
   "id": "Pwi6xYJX-XXO",
   "metadata": {
    "id": "Pwi6xYJX-XXO"
   },
   "outputs": [],
   "source": [
    "# Import necessary Libraries\n",
    "import pandas as pd\n",
    "import numpy as np\n",
    "import seaborn as sb\n",
    "import matplotlib.pyplot as plt\n",
    "import matplotlib.style as style\n",
    "%matplotlib inline\n",
    "from numpy import std\n",
    "from numpy import mean\n",
    "from sklearn.metrics import accuracy_score\n",
    "\n",
    "from sklearn.preprocessing import LabelEncoder, StandardScaler, MinMaxScaler\n",
    "from sklearn.model_selection import train_test_split\n",
    "from sklearn.svm import SVC\n",
    "from sklearn.metrics import accuracy_score\n",
    "from sklearn.ensemble import RandomForestClassifier\n",
    "from sklearn.metrics import classification_report\n",
    "from sklearn.neighbors import KNeighborsClassifier\n",
    "from sklearn.feature_selection import VarianceThreshold\n",
    "from sklearn.preprocessing import PowerTransformer\n",
    "from sklearn.linear_model import  LogisticRegression\n",
    "from sklearn.compose import ColumnTransformer\n",
    "from sklearn.model_selection import RepeatedStratifiedKFold, cross_val_score\n",
    "from sklearn.pipeline import Pipeline"
   ]
  },
  {
   "cell_type": "code",
   "execution_count": 170,
   "id": "ULGD7hSa9DA4",
   "metadata": {
    "id": "ULGD7hSa9DA4"
   },
   "outputs": [],
   "source": [
    "# Load data into a dataframe\n",
    "data = pd.read_csv('D:\\DS\\milk-predict.csv')"
   ]
  },
  {
   "cell_type": "code",
   "execution_count": 171,
   "id": "b3fa0733",
   "metadata": {
    "colab": {
     "base_uri": "https://localhost:8080/",
     "height": 206
    },
    "id": "b3fa0733",
    "outputId": "1ff39c53-07b7-4d83-ce1d-587b2df17589"
   },
   "outputs": [
    {
     "data": {
      "text/html": [
       "<div>\n",
       "<style scoped>\n",
       "    .dataframe tbody tr th:only-of-type {\n",
       "        vertical-align: middle;\n",
       "    }\n",
       "\n",
       "    .dataframe tbody tr th {\n",
       "        vertical-align: top;\n",
       "    }\n",
       "\n",
       "    .dataframe thead th {\n",
       "        text-align: right;\n",
       "    }\n",
       "</style>\n",
       "<table border=\"1\" class=\"dataframe\">\n",
       "  <thead>\n",
       "    <tr style=\"text-align: right;\">\n",
       "      <th></th>\n",
       "      <th>pH</th>\n",
       "      <th>Temprature</th>\n",
       "      <th>Taste</th>\n",
       "      <th>Odor</th>\n",
       "      <th>Fat</th>\n",
       "      <th>Turbidity</th>\n",
       "      <th>Colour</th>\n",
       "      <th>Grade</th>\n",
       "    </tr>\n",
       "  </thead>\n",
       "  <tbody>\n",
       "    <tr>\n",
       "      <th>0</th>\n",
       "      <td>6.6</td>\n",
       "      <td>35</td>\n",
       "      <td>1</td>\n",
       "      <td>0</td>\n",
       "      <td>1</td>\n",
       "      <td>0</td>\n",
       "      <td>254</td>\n",
       "      <td>high</td>\n",
       "    </tr>\n",
       "    <tr>\n",
       "      <th>1</th>\n",
       "      <td>6.6</td>\n",
       "      <td>36</td>\n",
       "      <td>0</td>\n",
       "      <td>1</td>\n",
       "      <td>0</td>\n",
       "      <td>1</td>\n",
       "      <td>253</td>\n",
       "      <td>high</td>\n",
       "    </tr>\n",
       "    <tr>\n",
       "      <th>2</th>\n",
       "      <td>8.5</td>\n",
       "      <td>70</td>\n",
       "      <td>1</td>\n",
       "      <td>1</td>\n",
       "      <td>1</td>\n",
       "      <td>1</td>\n",
       "      <td>246</td>\n",
       "      <td>low</td>\n",
       "    </tr>\n",
       "    <tr>\n",
       "      <th>3</th>\n",
       "      <td>9.5</td>\n",
       "      <td>34</td>\n",
       "      <td>1</td>\n",
       "      <td>1</td>\n",
       "      <td>0</td>\n",
       "      <td>1</td>\n",
       "      <td>255</td>\n",
       "      <td>low</td>\n",
       "    </tr>\n",
       "    <tr>\n",
       "      <th>4</th>\n",
       "      <td>6.6</td>\n",
       "      <td>37</td>\n",
       "      <td>0</td>\n",
       "      <td>0</td>\n",
       "      <td>0</td>\n",
       "      <td>0</td>\n",
       "      <td>255</td>\n",
       "      <td>medium</td>\n",
       "    </tr>\n",
       "  </tbody>\n",
       "</table>\n",
       "</div>"
      ],
      "text/plain": [
       "    pH  Temprature  Taste  Odor  Fat   Turbidity  Colour   Grade\n",
       "0  6.6          35      1     0     1          0     254    high\n",
       "1  6.6          36      0     1     0          1     253    high\n",
       "2  8.5          70      1     1     1          1     246     low\n",
       "3  9.5          34      1     1     0          1     255     low\n",
       "4  6.6          37      0     0     0          0     255  medium"
      ]
     },
     "execution_count": 171,
     "metadata": {},
     "output_type": "execute_result"
    }
   ],
   "source": [
    "# Check the top 5 rows\n",
    "data.head()"
   ]
  },
  {
   "cell_type": "markdown",
   "id": "95565b11",
   "metadata": {},
   "source": [
    "#### As we can see above we have 3 numerical features and 4 binary categorical features and the target is categorical"
   ]
  },
  {
   "cell_type": "code",
   "execution_count": 172,
   "id": "5e0a2513",
   "metadata": {
    "colab": {
     "base_uri": "https://localhost:8080/"
    },
    "id": "5e0a2513",
    "outputId": "f104b46b-f920-431c-b142-7c031a556111"
   },
   "outputs": [
    {
     "name": "stdout",
     "output_type": "stream",
     "text": [
      "(1059, 8)\n",
      "\n",
      "\n",
      "Index(['pH', 'Temprature', 'Taste', 'Odor', 'Fat ', 'Turbidity', 'Colour',\n",
      "       'Grade'],\n",
      "      dtype='object')\n"
     ]
    }
   ],
   "source": [
    "# Check rows, columns count\n",
    "print(data.shape,end=3*'\\n')\n",
    "# Check column headers\n",
    "print(data.keys())"
   ]
  },
  {
   "cell_type": "code",
   "execution_count": 173,
   "id": "4bf4be83",
   "metadata": {},
   "outputs": [
    {
     "data": {
      "text/html": [
       "<div>\n",
       "<style scoped>\n",
       "    .dataframe tbody tr th:only-of-type {\n",
       "        vertical-align: middle;\n",
       "    }\n",
       "\n",
       "    .dataframe tbody tr th {\n",
       "        vertical-align: top;\n",
       "    }\n",
       "\n",
       "    .dataframe thead th {\n",
       "        text-align: right;\n",
       "    }\n",
       "</style>\n",
       "<table border=\"1\" class=\"dataframe\">\n",
       "  <thead>\n",
       "    <tr style=\"text-align: right;\">\n",
       "      <th></th>\n",
       "      <th>pH</th>\n",
       "      <th>Temprature</th>\n",
       "      <th>Taste</th>\n",
       "      <th>Odor</th>\n",
       "      <th>Fat</th>\n",
       "      <th>Turbidity</th>\n",
       "      <th>Colour</th>\n",
       "    </tr>\n",
       "  </thead>\n",
       "  <tbody>\n",
       "    <tr>\n",
       "      <th>count</th>\n",
       "      <td>1059.000000</td>\n",
       "      <td>1059.000000</td>\n",
       "      <td>1059.000000</td>\n",
       "      <td>1059.000000</td>\n",
       "      <td>1059.000000</td>\n",
       "      <td>1059.000000</td>\n",
       "      <td>1059.000000</td>\n",
       "    </tr>\n",
       "    <tr>\n",
       "      <th>mean</th>\n",
       "      <td>6.630123</td>\n",
       "      <td>44.226629</td>\n",
       "      <td>0.546742</td>\n",
       "      <td>0.432483</td>\n",
       "      <td>0.671388</td>\n",
       "      <td>0.491029</td>\n",
       "      <td>251.840415</td>\n",
       "    </tr>\n",
       "    <tr>\n",
       "      <th>std</th>\n",
       "      <td>1.399679</td>\n",
       "      <td>10.098364</td>\n",
       "      <td>0.498046</td>\n",
       "      <td>0.495655</td>\n",
       "      <td>0.469930</td>\n",
       "      <td>0.500156</td>\n",
       "      <td>4.307424</td>\n",
       "    </tr>\n",
       "    <tr>\n",
       "      <th>min</th>\n",
       "      <td>3.000000</td>\n",
       "      <td>34.000000</td>\n",
       "      <td>0.000000</td>\n",
       "      <td>0.000000</td>\n",
       "      <td>0.000000</td>\n",
       "      <td>0.000000</td>\n",
       "      <td>240.000000</td>\n",
       "    </tr>\n",
       "    <tr>\n",
       "      <th>25%</th>\n",
       "      <td>6.500000</td>\n",
       "      <td>38.000000</td>\n",
       "      <td>0.000000</td>\n",
       "      <td>0.000000</td>\n",
       "      <td>0.000000</td>\n",
       "      <td>0.000000</td>\n",
       "      <td>250.000000</td>\n",
       "    </tr>\n",
       "    <tr>\n",
       "      <th>50%</th>\n",
       "      <td>6.700000</td>\n",
       "      <td>41.000000</td>\n",
       "      <td>1.000000</td>\n",
       "      <td>0.000000</td>\n",
       "      <td>1.000000</td>\n",
       "      <td>0.000000</td>\n",
       "      <td>255.000000</td>\n",
       "    </tr>\n",
       "    <tr>\n",
       "      <th>75%</th>\n",
       "      <td>6.800000</td>\n",
       "      <td>45.000000</td>\n",
       "      <td>1.000000</td>\n",
       "      <td>1.000000</td>\n",
       "      <td>1.000000</td>\n",
       "      <td>1.000000</td>\n",
       "      <td>255.000000</td>\n",
       "    </tr>\n",
       "    <tr>\n",
       "      <th>max</th>\n",
       "      <td>9.500000</td>\n",
       "      <td>90.000000</td>\n",
       "      <td>1.000000</td>\n",
       "      <td>1.000000</td>\n",
       "      <td>1.000000</td>\n",
       "      <td>1.000000</td>\n",
       "      <td>255.000000</td>\n",
       "    </tr>\n",
       "  </tbody>\n",
       "</table>\n",
       "</div>"
      ],
      "text/plain": [
       "                pH   Temprature        Taste         Odor         Fat   \\\n",
       "count  1059.000000  1059.000000  1059.000000  1059.000000  1059.000000   \n",
       "mean      6.630123    44.226629     0.546742     0.432483     0.671388   \n",
       "std       1.399679    10.098364     0.498046     0.495655     0.469930   \n",
       "min       3.000000    34.000000     0.000000     0.000000     0.000000   \n",
       "25%       6.500000    38.000000     0.000000     0.000000     0.000000   \n",
       "50%       6.700000    41.000000     1.000000     0.000000     1.000000   \n",
       "75%       6.800000    45.000000     1.000000     1.000000     1.000000   \n",
       "max       9.500000    90.000000     1.000000     1.000000     1.000000   \n",
       "\n",
       "         Turbidity       Colour  \n",
       "count  1059.000000  1059.000000  \n",
       "mean      0.491029   251.840415  \n",
       "std       0.500156     4.307424  \n",
       "min       0.000000   240.000000  \n",
       "25%       0.000000   250.000000  \n",
       "50%       0.000000   255.000000  \n",
       "75%       1.000000   255.000000  \n",
       "max       1.000000   255.000000  "
      ]
     },
     "execution_count": 173,
     "metadata": {},
     "output_type": "execute_result"
    }
   ],
   "source": [
    "data.describe()"
   ]
  },
  {
   "cell_type": "code",
   "execution_count": 174,
   "id": "afa65fac",
   "metadata": {
    "colab": {
     "base_uri": "https://localhost:8080/"
    },
    "id": "afa65fac",
    "outputId": "3f766102-bb58-4bc8-ed68-258a50f850e4"
   },
   "outputs": [
    {
     "data": {
      "text/plain": [
       "pH            0\n",
       "Temprature    0\n",
       "Taste         0\n",
       "Odor          0\n",
       "Fat           0\n",
       "Turbidity     0\n",
       "Colour        0\n",
       "Grade         0\n",
       "dtype: int64"
      ]
     },
     "execution_count": 174,
     "metadata": {},
     "output_type": "execute_result"
    }
   ],
   "source": [
    "# Check for null values\n",
    "data.isnull().sum()"
   ]
  },
  {
   "cell_type": "code",
   "execution_count": 175,
   "id": "eb000f81",
   "metadata": {
    "colab": {
     "base_uri": "https://localhost:8080/"
    },
    "id": "eb000f81",
    "outputId": "61a5a9e8-2f60-4e47-98ea-f78efb6db77d"
   },
   "outputs": [
    {
     "data": {
      "text/plain": [
       "1001"
      ]
     },
     "execution_count": 175,
     "metadata": {},
     "output_type": "execute_result"
    }
   ],
   "source": [
    "# Check for duplicates\n",
    "data[['pH',\"Temprature\",\"Colour\"]].duplicated().sum()"
   ]
  },
  {
   "cell_type": "markdown",
   "id": "drRJhsU5B1DN",
   "metadata": {
    "id": "drRJhsU5B1DN"
   },
   "source": [
    "> The dataset has no key, this maybe the reason why we are picking up so many duplicate records."
   ]
  },
  {
   "cell_type": "markdown",
   "id": "6iWWfYGhUivX",
   "metadata": {
    "id": "6iWWfYGhUivX"
   },
   "source": [
    "# **Data Cleaning**"
   ]
  },
  {
   "cell_type": "code",
   "execution_count": 176,
   "id": "84163e3c",
   "metadata": {},
   "outputs": [],
   "source": [
    "# Create a copy of the original dataset\n",
    "data_cp = data.copy()"
   ]
  },
  {
   "cell_type": "code",
   "execution_count": 177,
   "id": "de_0KLiIVDmN",
   "metadata": {
    "id": "de_0KLiIVDmN"
   },
   "outputs": [],
   "source": [
    "# Rename columns\n",
    "data_cp = data_cp.rename(columns={'Temprature':'Temperature'})\n",
    "# Remove any empty spaces in header col\n",
    "data_cp.columns = data_cp.columns.str.replace(' ', '')"
   ]
  },
  {
   "cell_type": "code",
   "execution_count": 178,
   "id": "a1045461",
   "metadata": {
    "scrolled": true
   },
   "outputs": [
    {
     "data": {
      "text/plain": [
       "Temperature    0\n",
       "pH             0\n",
       "Colour         0\n",
       "dtype: int64"
      ]
     },
     "execution_count": 178,
     "metadata": {},
     "output_type": "execute_result"
    }
   ],
   "source": [
    "# Finding nan and zeros\n",
    "(data_cp[[\"Temperature\",\"pH\",\"Colour\"]]== 0).sum()"
   ]
  },
  {
   "cell_type": "code",
   "execution_count": 179,
   "id": "365c50b7",
   "metadata": {},
   "outputs": [
    {
     "name": "stdout",
     "output_type": "stream",
     "text": [
      "mean: 100.90\n",
      "\n",
      "standard deviation: 108.02\n"
     ]
    }
   ],
   "source": [
    "data = data_cp[[\"Temperature\",\"pH\",\"Colour\"]].values\n",
    "data_mean , data_std = mean(data) , std(data)\n",
    "print(f\"mean: {data_mean:.2f}\",f\"standard deviation: {data_std:.2f}\",sep=\"\\n\\n\")"
   ]
  },
  {
   "cell_type": "code",
   "execution_count": 180,
   "id": "2b4f2802",
   "metadata": {},
   "outputs": [],
   "source": [
    "# calculating the cut-off\n",
    "cut_off = data_std * 3\n",
    "# calculating the lower & upper sigma chart in order to find outlier data\n",
    "lower, upper = data_mean - cut_off , data_std + cut_off"
   ]
  },
  {
   "cell_type": "code",
   "execution_count": 181,
   "id": "8ef8868f",
   "metadata": {},
   "outputs": [
    {
     "name": "stdout",
     "output_type": "stream",
     "text": [
      "0\n"
     ]
    }
   ],
   "source": [
    "# finding outliers with list-comperhension\n",
    "outlier_data = [x for x in data if (x < lower).any() or (x > upper).any()]\n",
    "print(len(outlier_data))"
   ]
  },
  {
   "cell_type": "code",
   "execution_count": 182,
   "id": "6d825fdf",
   "metadata": {},
   "outputs": [
    {
     "name": "stdout",
     "output_type": "stream",
     "text": [
      "1059\n"
     ]
    }
   ],
   "source": [
    "valid_data = [x for x in data if (x >= lower).any() or (x <= upper)]\n",
    "print(len(valid_data))"
   ]
  },
  {
   "cell_type": "markdown",
   "id": "77c4db4d",
   "metadata": {},
   "source": [
    ">*As you can observe there is no outlier data on 3-sigma*"
   ]
  },
  {
   "cell_type": "markdown",
   "id": "_nwil54rCSgM",
   "metadata": {
    "id": "_nwil54rCSgM"
   },
   "source": [
    "# **Data Visualization**"
   ]
  },
  {
   "cell_type": "code",
   "execution_count": 183,
   "id": "ad67264c",
   "metadata": {},
   "outputs": [],
   "source": [
    "arry_data = data_cp[[\"Temperature\",\"pH\",\"Colour\"]]"
   ]
  },
  {
   "cell_type": "code",
   "execution_count": 184,
   "id": "85fc338a",
   "metadata": {
    "id": "85fc338a"
   },
   "outputs": [
    {
     "data": {
      "image/png": "[encoded data removed]",
      "text/plain": [
       "<Figure size 640x480 with 1 Axes>"
      ]
     },
     "metadata": {},
     "output_type": "display_data"
    }
   ],
   "source": [
    "plt.hist(arry_data, bins=10)\n",
    "plt.title('Histogram of Data')\n",
    "plt.show()"
   ]
  },
  {
   "cell_type": "code",
   "execution_count": 185,
   "id": "3712f67c",
   "metadata": {
    "colab": {
     "base_uri": "https://localhost:8080/",
     "height": 444
    },
    "id": "3712f67c",
    "outputId": "faf8382f-dd0a-4a3d-945e-2e98fd1e008e",
    "scrolled": true
   },
   "outputs": [
    {
     "data": {
      "image/png": "[encoded data removed]",
      "text/plain": [
       "<Figure size 640x480 with 1 Axes>"
      ]
     },
     "metadata": {},
     "output_type": "display_data"
    }
   ],
   "source": [
    "# plot a scatter plot to visualize any correlation between fat and quaity grade \n",
    "plt.scatter(data_cp['Fat'], data_cp['Grade'])\n",
    "plt.xlabel('Fat Content')\n",
    "plt.ylabel('Quality Grade ')\n",
    "plt.title('Correlation between Fat and Quality Grade')\n",
    "plt.show()"
   ]
  },
  {
   "cell_type": "code",
   "execution_count": 186,
   "id": "0437cbde",
   "metadata": {},
   "outputs": [
    {
     "data": {
      "image/png": "[encoded data removed]",
      "text/plain": [
       "<Figure size 640x480 with 4 Axes>"
      ]
     },
     "metadata": {},
     "output_type": "display_data"
    }
   ],
   "source": [
    "arry_data.hist(xlabelsize=9,ylabelsize=9)\n",
    "plt.show()"
   ]
  },
  {
   "cell_type": "code",
   "execution_count": 187,
   "id": "f0611b9e",
   "metadata": {},
   "outputs": [
    {
     "name": "stdout",
     "output_type": "stream",
     "text": [
      "[[ 35.    6.6 254. ]\n",
      " [ 36.    6.6 253. ]\n",
      " [ 70.    8.5 246. ]\n",
      " ...\n",
      " [ 40.    3.  255. ]\n",
      " [ 43.    6.8 250. ]\n",
      " [ 55.    8.6 255. ]]\n"
     ]
    }
   ],
   "source": [
    "from numpy import asarray\n",
    "nd_array_data = asarray(arry_data)\n",
    "print(nd_array_data)"
   ]
  },
  {
   "cell_type": "code",
   "execution_count": 188,
   "id": "20f36352",
   "metadata": {},
   "outputs": [
    {
     "data": {
      "image/png": "[encoded data removed]",
      "text/plain": [
       "<Figure size 640x480 with 1 Axes>"
      ]
     },
     "metadata": {},
     "output_type": "display_data"
    }
   ],
   "source": [
    "style.use('ggplot')\n",
    "plt.plot(nd_array_data,'g',label='lines',linewidth=2)\n",
    "plt.xlabel(\"Range\")\n",
    "plt.ylabel(\"Numbers\")\n",
    "plt.title(\"Something\")\n",
    "plt.legend()\n",
    "plt.show()"
   ]
  },
  {
   "cell_type": "markdown",
   "id": "b44ea7be",
   "metadata": {
    "id": "b44ea7be"
   },
   "source": [
    "# **Train & Evaluate the Model**\n",
    "Metrics such as accuracy, precision, and recall can be used measure the performance of the model."
   ]
  },
  {
   "cell_type": "code",
   "execution_count": 189,
   "id": "jQi_xT7KoOpO",
   "metadata": {
    "id": "jQi_xT7KoOpO"
   },
   "outputs": [],
   "source": [
    "# Split the dataset into features(to use to predict) and target variable(to predict)\n",
    "X = data_cp.drop(['Grade'], axis=1)\n",
    "y = data_cp['Grade'].astype(str)"
   ]
  },
  {
   "cell_type": "code",
   "execution_count": 190,
   "id": "6aVeMv2GpW2S",
   "metadata": {
    "colab": {
     "base_uri": "https://localhost:8080/"
    },
    "id": "6aVeMv2GpW2S",
    "outputId": "37f51138-aba8-4c56-a68e-d2314ab5449e"
   },
   "outputs": [
    {
     "name": "stdout",
     "output_type": "stream",
     "text": [
      "Index(['pH', 'Temperature', 'Taste', 'Odor', 'Fat', 'Turbidity', 'Colour'], dtype='object')\n"
     ]
    }
   ],
   "source": [
    "print(X.columns)"
   ]
  },
  {
   "cell_type": "markdown",
   "id": "S1_MVSp6NhhA",
   "metadata": {
    "id": "S1_MVSp6NhhA"
   },
   "source": [
    "Support Vector Machines (SVM) is sensitive to differences in scale and distribution, so using a scaler-object we can: standardize and normalize the features."
   ]
  },
  {
   "cell_type": "code",
   "execution_count": 191,
   "id": "784fe033",
   "metadata": {},
   "outputs": [],
   "source": [
    "# Split the data into training and testing sets\n",
    "# and in order to prevent DataLeakage we shall split the data first \n",
    "X_train, X_test, y_train, y_test = train_test_split(X, y, test_size=0.33, random_state=8)"
   ]
  },
  {
   "cell_type": "code",
   "execution_count": 192,
   "id": "2a47a4ba",
   "metadata": {},
   "outputs": [],
   "source": [
    "LE_transformation = LabelEncoder()\n",
    "LE_transformation.fit(y_train)\n",
    "y_train = LE_transformation.transform(y_train)\n",
    "y_test = LE_transformation.transform(y_test)"
   ]
  },
  {
   "cell_type": "code",
   "execution_count": 193,
   "id": "avYaCxVKohfG",
   "metadata": {
    "id": "avYaCxVKohfG"
   },
   "outputs": [],
   "source": [
    "# Defining various of transforms\n",
    "std_scaler = StandardScaler()\n",
    "minmax_scaler = MinMaxScaler(feature_range=(1,2))\n",
    "# we won't use Roubust scaler because there was no outlier data in our dataset\n",
    "power_transformer = PowerTransformer(method=\"box-cox\")"
   ]
  },
  {
   "cell_type": "markdown",
   "id": "e566438b",
   "metadata": {},
   "source": [
    "finding numerical colomns of the splitted data in order to do numerical transforms"
   ]
  },
  {
   "cell_type": "code",
   "execution_count": 194,
   "id": "a80205f2",
   "metadata": {},
   "outputs": [],
   "source": [
    "numerical_cols = [\"Temperature\", \"pH\", \"Colour\"]"
   ]
  },
  {
   "cell_type": "markdown",
   "id": "d11a9276",
   "metadata": {},
   "source": [
    "Modeling without data transformation"
   ]
  },
  {
   "cell_type": "code",
   "execution_count": 195,
   "id": "934cd8d4",
   "metadata": {},
   "outputs": [
    {
     "name": "stdout",
     "output_type": "stream",
     "text": [
      "accuracy :99.14\n"
     ]
    }
   ],
   "source": [
    "# Model defined\n",
    "model = KNeighborsClassifier()\n",
    "# Model fitted\n",
    "model.fit(X_train,y_train)\n",
    "# Prediction\n",
    "yhat = model.predict(X_test)\n",
    "print(f\"accuracy :{accuracy_score(y_test,yhat)*100:.2f}\")"
   ]
  },
  {
   "cell_type": "markdown",
   "id": "d17a34d1",
   "metadata": {},
   "source": [
    "Now with standardization on numerical data"
   ]
  },
  {
   "cell_type": "code",
   "execution_count": 196,
   "id": "06aae868",
   "metadata": {
    "collapsed": true
   },
   "outputs": [
    {
     "name": "stdout",
     "output_type": "stream",
     "text": [
      "accuracy :91.14\n",
      "**********************************************************************\n",
      "              precision    recall  f1-score   support\n",
      "\n",
      "           0       0.86      0.78      0.82        88\n",
      "           1       1.00      0.99      1.00       144\n",
      "           2       0.84      0.91      0.87       118\n",
      "\n",
      "    accuracy                           0.91       350\n",
      "   macro avg       0.90      0.89      0.90       350\n",
      "weighted avg       0.91      0.91      0.91       350\n",
      "\n"
     ]
    }
   ],
   "source": [
    "# transform the data\n",
    "transforms = [('numtrain',StandardScaler(),numerical_cols)]\n",
    "col_transform = ColumnTransformer(transformers=transforms)\n",
    "# Model defined\n",
    "model = KNeighborsClassifier()\n",
    "pipKN = Pipeline(steps=[('prep',col_transform), ('m', model)])\n",
    "# Model fitted\n",
    "pipKN.fit(X_train,y_train)\n",
    "# Evaluate the prediction precentage\n",
    "yhat = pipKN.predict(X_test)\n",
    "print(f\"accuracy :{accuracy_score(y_test,yhat)*100:.2f}\")\n",
    "print(\"*\"*70)\n",
    "print(classification_report(y_test, yhat))"
   ]
  },
  {
   "cell_type": "markdown",
   "id": "c84c868d",
   "metadata": {},
   "source": [
    "Now we do the modeling and evaluation with normalization and standardization"
   ]
  },
  {
   "cell_type": "code",
   "execution_count": 197,
   "id": "2f2401fc",
   "metadata": {
    "collapsed": true
   },
   "outputs": [
    {
     "name": "stdout",
     "output_type": "stream",
     "text": [
      "accuracy :91.14\n",
      "**********************************************************************\n",
      "              precision    recall  f1-score   support\n",
      "\n",
      "           0       0.86      0.78      0.82        88\n",
      "           1       1.00      0.99      1.00       144\n",
      "           2       0.84      0.91      0.87       118\n",
      "\n",
      "    accuracy                           0.91       350\n",
      "   macro avg       0.90      0.89      0.90       350\n",
      "weighted avg       0.91      0.91      0.91       350\n",
      "\n"
     ]
    }
   ],
   "source": [
    "# transform the data\n",
    "transforms = [('numtrain',StandardScaler(),numerical_cols),(\"numtrain2\",MinMaxScaler(),numerical_cols)]\n",
    "col_transform = ColumnTransformer(transformers=transforms)\n",
    "# Model defined\n",
    "model = KNeighborsClassifier()\n",
    "pipKN2 = Pipeline(steps=[('prep',col_transform), ('m', model)])\n",
    "# Model fitted\n",
    "pipKN2.fit(X_train,y_train)\n",
    "# Evaluate the prediction precentage\n",
    "yhat = pipKN2.predict(X_test)\n",
    "print(f\"accuracy :{accuracy_score(y_test,yhat)*100:.2f}\")\n",
    "print(\"*\"*70)\n",
    "print(classification_report(y_test, yhat))"
   ]
  },
  {
   "cell_type": "markdown",
   "id": "b94bf0bb",
   "metadata": {},
   "source": [
    "Logistic regression will be defined and evaluated in the exact same way"
   ]
  },
  {
   "cell_type": "code",
   "execution_count": 198,
   "id": "2918eed4",
   "metadata": {
    "collapsed": true
   },
   "outputs": [
    {
     "name": "stdout",
     "output_type": "stream",
     "text": [
      "accuracy :74.86\n",
      "**********************************************************************\n",
      "              precision    recall  f1-score   support\n",
      "\n",
      "           0       0.75      0.58      0.65        88\n",
      "           1       0.82      0.74      0.77       144\n",
      "           2       0.69      0.89      0.78       118\n",
      "\n",
      "    accuracy                           0.75       350\n",
      "   macro avg       0.75      0.74      0.74       350\n",
      "weighted avg       0.76      0.75      0.74       350\n",
      "\n"
     ]
    },
    {
     "name": "stderr",
     "output_type": "stream",
     "text": [
      "C:\\ProgramData\\anaconda3\\lib\\site-packages\\sklearn\\linear_model\\_logistic.py:458: ConvergenceWarning: lbfgs failed to converge (status=1):\n",
      "STOP: TOTAL NO. of ITERATIONS REACHED LIMIT.\n",
      "\n",
      "Increase the number of iterations (max_iter) or scale the data as shown in:\n",
      "    https://scikit-learn.org/stable/modules/preprocessing.html\n",
      "Please also refer to the documentation for alternative solver options:\n",
      "    https://scikit-learn.org/stable/modules/linear_model.html#logistic-regression\n",
      "  n_iter_i = _check_optimize_result(\n"
     ]
    }
   ],
   "source": [
    "# Model defined\n",
    "model = LogisticRegression()\n",
    "# Model fitted\n",
    "model.fit(X_train,y_train)\n",
    "# Evaluate the prediction precentage\n",
    "yhat = model.predict(X_test)\n",
    "print(f\"accuracy :{accuracy_score(y_test,yhat)*100:.2f}\")\n",
    "print(\"*\"*70)\n",
    "print(classification_report(y_test, yhat))"
   ]
  },
  {
   "cell_type": "code",
   "execution_count": 199,
   "id": "b8f8ad3d",
   "metadata": {
    "collapsed": true
   },
   "outputs": [
    {
     "name": "stdout",
     "output_type": "stream",
     "text": [
      "accuracy :59.14\n",
      "**********\n",
      "              precision    recall  f1-score   support\n",
      "\n",
      "           0       0.00      0.00      0.00        88\n",
      "           1       0.70      0.75      0.72       144\n",
      "           2       0.51      0.84      0.63       118\n",
      "\n",
      "    accuracy                           0.59       350\n",
      "   macro avg       0.40      0.53      0.45       350\n",
      "weighted avg       0.46      0.59      0.51       350\n",
      "\n"
     ]
    },
    {
     "name": "stderr",
     "output_type": "stream",
     "text": [
      "C:\\ProgramData\\anaconda3\\lib\\site-packages\\sklearn\\metrics\\_classification.py:1344: UndefinedMetricWarning: Precision and F-score are ill-defined and being set to 0.0 in labels with no predicted samples. Use `zero_division` parameter to control this behavior.\n",
      "  _warn_prf(average, modifier, msg_start, len(result))\n",
      "C:\\ProgramData\\anaconda3\\lib\\site-packages\\sklearn\\metrics\\_classification.py:1344: UndefinedMetricWarning: Precision and F-score are ill-defined and being set to 0.0 in labels with no predicted samples. Use `zero_division` parameter to control this behavior.\n",
      "  _warn_prf(average, modifier, msg_start, len(result))\n",
      "C:\\ProgramData\\anaconda3\\lib\\site-packages\\sklearn\\metrics\\_classification.py:1344: UndefinedMetricWarning: Precision and F-score are ill-defined and being set to 0.0 in labels with no predicted samples. Use `zero_division` parameter to control this behavior.\n",
      "  _warn_prf(average, modifier, msg_start, len(result))\n"
     ]
    }
   ],
   "source": [
    "# transform the data\n",
    "transforms = [('numtrain',StandardScaler(),numerical_cols)]\n",
    "col_transform = ColumnTransformer(transformers=transforms)\n",
    "# Model defined\n",
    "model = LogisticRegression()\n",
    "pipLR = Pipeline(steps=[('prep',col_transform), ('m', model)])\n",
    "# Model fitted\n",
    "pipLR.fit(X_train,y_train)\n",
    "# Evaluate the prediction precentage\n",
    "yhat = pipLR.predict(X_test)\n",
    "print(f\"accuracy :{accuracy_score(y_test,yhat)*100:.2f}\")\n",
    "print(\"*\"*10)\n",
    "print(classification_report(y_test, yhat))"
   ]
  },
  {
   "cell_type": "markdown",
   "id": "1ac75bc8",
   "metadata": {},
   "source": [
    "Now we do the same normalization and standardization on logisic regression"
   ]
  },
  {
   "cell_type": "code",
   "execution_count": 205,
   "id": "856e525b",
   "metadata": {
    "collapsed": true
   },
   "outputs": [
    {
     "name": "stdout",
     "output_type": "stream",
     "text": [
      "accuracy :59.14\n",
      "**********************************************************************\n",
      "              precision    recall  f1-score   support\n",
      "\n",
      "           0       0.00      0.00      0.00        88\n",
      "           1       0.70      0.75      0.72       144\n",
      "           2       0.51      0.84      0.63       118\n",
      "\n",
      "    accuracy                           0.59       350\n",
      "   macro avg       0.40      0.53      0.45       350\n",
      "weighted avg       0.46      0.59      0.51       350\n",
      "\n"
     ]
    },
    {
     "name": "stderr",
     "output_type": "stream",
     "text": [
      "C:\\ProgramData\\anaconda3\\lib\\site-packages\\sklearn\\metrics\\_classification.py:1344: UndefinedMetricWarning: Precision and F-score are ill-defined and being set to 0.0 in labels with no predicted samples. Use `zero_division` parameter to control this behavior.\n",
      "  _warn_prf(average, modifier, msg_start, len(result))\n",
      "C:\\ProgramData\\anaconda3\\lib\\site-packages\\sklearn\\metrics\\_classification.py:1344: UndefinedMetricWarning: Precision and F-score are ill-defined and being set to 0.0 in labels with no predicted samples. Use `zero_division` parameter to control this behavior.\n",
      "  _warn_prf(average, modifier, msg_start, len(result))\n",
      "C:\\ProgramData\\anaconda3\\lib\\site-packages\\sklearn\\metrics\\_classification.py:1344: UndefinedMetricWarning: Precision and F-score are ill-defined and being set to 0.0 in labels with no predicted samples. Use `zero_division` parameter to control this behavior.\n",
      "  _warn_prf(average, modifier, msg_start, len(result))\n"
     ]
    }
   ],
   "source": [
    "transforms = [('numtrain',StandardScaler(),numerical_cols),(\"numtrain2\",MinMaxScaler(),numerical_cols)]\n",
    "col_transform = ColumnTransformer(transformers=transforms)\n",
    "# Model defined\n",
    "model = LogisticRegression()\n",
    "pipLR2 = Pipeline(steps=[('prep',col_transform), ('m', model)])\n",
    "# Model fitted\n",
    "pipLR2.fit(X_train,y_train)\n",
    "# Evaluate the prediction precentage\n",
    "yhat = pipLR2.predict(X_test)\n",
    "print(f\"accuracy :{accuracy_score(y_test,yhat)*100:.2f}\")\n",
    "print(\"*\"*70)\n",
    "print(classification_report(y_test, yhat))"
   ]
  },
  {
   "cell_type": "code",
   "execution_count": 201,
   "id": "9_K4wpK0omSf",
   "metadata": {
    "colab": {
     "base_uri": "https://localhost:8080/"
    },
    "collapsed": true,
    "id": "9_K4wpK0omSf",
    "outputId": "0b706cd6-7cb7-4a42-b49b-3927f51aba27"
   },
   "outputs": [
    {
     "name": "stdout",
     "output_type": "stream",
     "text": [
      "Accuracy of SVM classifier: 87.43%\n",
      "------------------------------------------------------------------\n",
      "              precision    recall  f1-score   support\n",
      "\n",
      "           0       0.75      0.86      0.80        88\n",
      "           1       0.95      0.88      0.92       144\n",
      "           2       0.89      0.87      0.88       118\n",
      "\n",
      "    accuracy                           0.87       350\n",
      "   macro avg       0.87      0.87      0.87       350\n",
      "weighted avg       0.88      0.87      0.88       350\n",
      "\n"
     ]
    }
   ],
   "source": [
    "# Train and evaluate a support vector machine classifier\n",
    "svm = SVC(kernel='linear')\n",
    "svm.fit(X_train, y_train)\n",
    "\n",
    "y_pred_svm = svm.predict(X_test)\n",
    "accuracy_svm = accuracy_score(y_test, y_pred_svm)\n",
    "\n",
    "print(\"Accuracy of SVM classifier: {:.2f}%\".format(accuracy_svm * 100))\n",
    "print('------------------------------------------------------------------')\n",
    "print(classification_report(y_test, y_pred_svm))"
   ]
  },
  {
   "cell_type": "code",
   "execution_count": 202,
   "id": "96b37766",
   "metadata": {
    "collapsed": true
   },
   "outputs": [
    {
     "name": "stdout",
     "output_type": "stream",
     "text": [
      "accuracy :64.00\n",
      "**********************************************************************\n",
      "              precision    recall  f1-score   support\n",
      "\n",
      "           0       0.23      0.10      0.14        88\n",
      "           1       0.88      0.78      0.82       144\n",
      "           2       0.56      0.87      0.68       118\n",
      "\n",
      "    accuracy                           0.64       350\n",
      "   macro avg       0.56      0.58      0.55       350\n",
      "weighted avg       0.61      0.64      0.61       350\n",
      "\n"
     ]
    }
   ],
   "source": [
    "transforms = [('numtrain',StandardScaler(),numerical_cols)]\n",
    "col_transform = ColumnTransformer(transformers=transforms)\n",
    "# Train and evaluate a support vector machine classifier\n",
    "model = SVC(kernel='linear')\n",
    "pipSVM = Pipeline(steps=[('prep',col_transform), ('m', model)])\n",
    "pipSVM.fit(X_train, y_train)\n",
    "# Model fitted\n",
    "pipSVM.fit(X_train,y_train)\n",
    "# Evaluate the prediction precentage\n",
    "yhat = pipSVM.predict(X_test)\n",
    "print(f\"accuracy :{accuracy_score(y_test,yhat)*100:.2f}\")\n",
    "print(\"*\"*70)\n",
    "print(classification_report(y_test, yhat))"
   ]
  },
  {
   "cell_type": "code",
   "execution_count": 206,
   "id": "9XPZRdHEop4f",
   "metadata": {
    "colab": {
     "base_uri": "https://localhost:8080/"
    },
    "collapsed": true,
    "id": "9XPZRdHEop4f",
    "outputId": "6786dd79-0dc5-4514-9cc1-73d0498a0aa5"
   },
   "outputs": [
    {
     "name": "stdout",
     "output_type": "stream",
     "text": [
      "Accuracy of Random Forest classifier: 100.00%\n",
      "------------------------------------------------------------------\n",
      "              precision    recall  f1-score   support\n",
      "\n",
      "           0       1.00      1.00      1.00        88\n",
      "           1       1.00      1.00      1.00       144\n",
      "           2       1.00      1.00      1.00       118\n",
      "\n",
      "    accuracy                           1.00       350\n",
      "   macro avg       1.00      1.00      1.00       350\n",
      "weighted avg       1.00      1.00      1.00       350\n",
      "\n"
     ]
    }
   ],
   "source": [
    "# Perform random classifier classification\n",
    "rf = RandomForestClassifier(random_state=42)\n",
    "rf.fit(X_train, y_train)\n",
    "\n",
    "y_pred_rf = rf.predict(X_test)\n",
    "accuracy_rf = accuracy_score(y_test, y_pred_rf)\n",
    "\n",
    "print(\"Accuracy of Random Forest classifier: {:.2f}%\".format(accuracy_rf * 100))\n",
    "print('------------------------------------------------------------------')\n",
    "print(classification_report(y_test, y_pred_rf))"
   ]
  },
  {
   "cell_type": "code",
   "execution_count": 207,
   "id": "adad4890",
   "metadata": {
    "collapsed": true
   },
   "outputs": [
    {
     "name": "stdout",
     "output_type": "stream",
     "text": [
      "accuracy :93.14\n",
      "**********************************************************************\n",
      "              precision    recall  f1-score   support\n",
      "\n",
      "           0       0.87      0.88      0.87        88\n",
      "           1       1.00      0.99      1.00       144\n",
      "           2       0.90      0.90      0.90       118\n",
      "\n",
      "    accuracy                           0.93       350\n",
      "   macro avg       0.92      0.92      0.92       350\n",
      "weighted avg       0.93      0.93      0.93       350\n",
      "\n"
     ]
    }
   ],
   "source": [
    "transforms = [('numtrain',StandardScaler(),numerical_cols)]\n",
    "col_transform = ColumnTransformer(transformers=transforms)\n",
    "# define the model\n",
    "model = RandomForestClassifier(random_state=42)\n",
    "pipeline = Pipeline(steps=[('prep',col_transform), ('m', model)])\n",
    "pipeline.fit(X_train, y_train)\n",
    "yhat = pipeline.predict(X_test)\n",
    "print(f\"accuracy :{accuracy_score(y_test,yhat)*100:.2f}\")\n",
    "print(\"*\"*70)\n",
    "print(classification_report(y_test, yhat))"
   ]
  }
 ],
 "metadata": {
  "colab": {
   "include_colab_link": true,
   "provenance": []
  },
  "kernelspec": {
   "display_name": "Python 3 (ipykernel)",
   "language": "python",
   "name": "python3"
  },
  "language_info": {
   "codemirror_mode": {
    "name": "ipython",
    "version": 3
   },
   "file_extension": ".py",
   "mimetype": "text/x-python",
   "name": "python",
   "nbconvert_exporter": "python",
   "pygments_lexer": "ipython3",
   "version": "3.10.9"
  }
 },
 "nbformat": 4,
 "nbformat_minor": 5
}
